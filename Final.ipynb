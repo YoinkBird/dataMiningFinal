{
 "cells": [
  {
   "cell_type": "code",
   "execution_count": 22,
   "metadata": {
    "collapsed": false
   },
   "outputs": [],
   "source": [
    "#Here info:\n",
    "#App ID: gB5Th31Aa7kCMDRB2yYH\n",
    "#App Code: _V3OMdtHzj0vDll0eT6JsA\n",
    "\n",
    "from sklearn.ensemble import RandomForestClassifier\n",
    "from sklearn import (metrics, model_selection, linear_model, preprocessing, ensemble, neighbors)\n",
    "from sklearn.neighbors import KNeighborsClassifier\n",
    "import matplotlib.pyplot as plt\n",
    "from matplotlib import rcParams\n",
    "import seaborn as sns\n",
    "import numpy as np\n",
    "import pandas as pd\n",
    "import pprint as pp\n",
    "import re\n",
    "from sklearn.model_selection import train_test_split, cross_val_score\n",
    "import xgboost as xgb\n",
    "\n"
   ]
  },
  {
   "cell_type": "code",
   "execution_count": 18,
   "metadata": {
    "collapsed": false
   },
   "outputs": [],
   "source": [
    "# import the \"crash\" data\n",
    "data = pd.read_csv(\"my_map_grid.csv\",header=10)\n",
    "\n",
    "# preprocessing\n",
    "# lowercase: http://stackoverflow.com/a/38931854\n",
    "data.columns = data.columns.str.lower()\n",
    "# remove spaces\n",
    "data.columns = data.columns.str.replace(' ', '_')\n",
    "# special cases\n",
    "data.columns = data.columns.str.replace('crash_i_d', 'crash_id')\n",
    "# remove whateva data\n",
    "\n",
    "# replace ['No Data','Not Applicable'] with NaN\n",
    "data.replace(to_replace='No Data', value=np.nan, inplace=True)\n",
    "data.replace(to_replace='Not Applicable', value=np.nan, inplace=True)\n",
    "data.latitude = pd.to_numeric(data.latitude)\n",
    "data.longitude = pd.to_numeric(data.longitude)\n",
    "\n",
    "\n",
    "dummies_needed_list = [\n",
    " 'day_of_week',\n",
    " 'intersection_related',\n",
    " 'light_condition',\n",
    " 'manner_of_collision',\n",
    " 'road_base_type',\n",
    " 'surface_condition',\n",
    " 'weather_condition'\n",
    "        ]\n",
    "# encode data for dummies_needed_list\n",
    "for feat in dummies_needed_list:\n",
    "    data = pd.concat([data,pd.get_dummies(data[feat],prefix=feat)],axis=1)\n",
    "    data = data.drop([feat],axis=1)\n",
    "\n",
    "#remove data that will not be usefull\n",
    "drop_columns = ['crash_id',\n",
    "                'average_daily_traffic_amount',\n",
    "                'average_daily_traffic_year',\n",
    "                'street_name',\n",
    "                'intersecting_street_name',\n",
    "                'medical_advisory_flag',\n",
    "                'object_struck']\n",
    "crash_id = data.crash_id\n",
    "data = data.drop(drop_columns,axis=1)\n",
    "\n",
    "#fill missing values\n",
    "data = data.fillna(data.mean())\n",
    "\n",
    "#split data into train/test,x/y\n",
    "np.random.seed(0)\n",
    "train, test = train_test_split(data)\n",
    "x_train = train.drop(['crash_severity'],axis=1)\n",
    "y_train = train.crash_severity\n",
    "x_test = test.drop(['crash_severity'],axis=1)\n",
    "y_test = test.crash_severity"
   ]
  },
  {
   "cell_type": "code",
   "execution_count": 24,
   "metadata": {
    "collapsed": false
   },
   "outputs": [
    {
     "name": "stderr",
     "output_type": "stream",
     "text": [
      "C:\\Users\\weyma\\Anaconda3\\lib\\site-packages\\sklearn\\model_selection\\_split.py:581: Warning: The least populated class in y has only 2 members, which is too few. The minimum number of groups for any class cannot be less than n_splits=5.\n",
      "  % (min_groups, self.n_splits)), Warning)\n",
      "C:\\Users\\weyma\\Anaconda3\\lib\\site-packages\\sklearn\\model_selection\\_split.py:581: Warning: The least populated class in y has only 2 members, which is too few. The minimum number of groups for any class cannot be less than n_splits=5.\n",
      "  % (min_groups, self.n_splits)), Warning)\n",
      "C:\\Users\\weyma\\Anaconda3\\lib\\site-packages\\sklearn\\model_selection\\_split.py:581: Warning: The least populated class in y has only 2 members, which is too few. The minimum number of groups for any class cannot be less than n_splits=5.\n",
      "  % (min_groups, self.n_splits)), Warning)\n",
      "C:\\Users\\weyma\\Anaconda3\\lib\\site-packages\\sklearn\\model_selection\\_split.py:581: Warning: The least populated class in y has only 2 members, which is too few. The minimum number of groups for any class cannot be less than n_splits=5.\n",
      "  % (min_groups, self.n_splits)), Warning)\n",
      "C:\\Users\\weyma\\Anaconda3\\lib\\site-packages\\sklearn\\model_selection\\_split.py:581: Warning: The least populated class in y has only 2 members, which is too few. The minimum number of groups for any class cannot be less than n_splits=5.\n",
      "  % (min_groups, self.n_splits)), Warning)\n",
      "C:\\Users\\weyma\\Anaconda3\\lib\\site-packages\\sklearn\\model_selection\\_split.py:581: Warning: The least populated class in y has only 2 members, which is too few. The minimum number of groups for any class cannot be less than n_splits=5.\n",
      "  % (min_groups, self.n_splits)), Warning)\n",
      "C:\\Users\\weyma\\Anaconda3\\lib\\site-packages\\sklearn\\model_selection\\_split.py:581: Warning: The least populated class in y has only 2 members, which is too few. The minimum number of groups for any class cannot be less than n_splits=5.\n",
      "  % (min_groups, self.n_splits)), Warning)\n",
      "C:\\Users\\weyma\\Anaconda3\\lib\\site-packages\\sklearn\\model_selection\\_split.py:581: Warning: The least populated class in y has only 2 members, which is too few. The minimum number of groups for any class cannot be less than n_splits=5.\n",
      "  % (min_groups, self.n_splits)), Warning)\n",
      "C:\\Users\\weyma\\Anaconda3\\lib\\site-packages\\sklearn\\model_selection\\_split.py:581: Warning: The least populated class in y has only 2 members, which is too few. The minimum number of groups for any class cannot be less than n_splits=5.\n",
      "  % (min_groups, self.n_splits)), Warning)\n",
      "C:\\Users\\weyma\\Anaconda3\\lib\\site-packages\\sklearn\\model_selection\\_split.py:581: Warning: The least populated class in y has only 2 members, which is too few. The minimum number of groups for any class cannot be less than n_splits=5.\n",
      "  % (min_groups, self.n_splits)), Warning)\n"
     ]
    },
    {
     "data": {
      "text/plain": [
       "0.52867383512544808"
      ]
     },
     "execution_count": 24,
     "metadata": {},
     "output_type": "execute_result"
    }
   ],
   "source": [
    "#test models from data will need a model that can classify more than 2 response classes\n",
    "\n",
    "#cross validation function\n",
    "def accuracy_cv(model):\n",
    "    accuracy = cross_val_score(model,x_train,y_train.as_matrix().ravel(),scoring='accuracy',cv=5)\n",
    "    return (accuracy)\n",
    "\n",
    "n_neighbors = np.linspace(14,23,10,dtype=int)\n",
    "\n",
    "knn = KNeighborsClassifier()\n",
    "knn.fit(x_train,y_train)\n",
    "\n",
    "#cross validation for n_neighbors parameter\n",
    "scores = [accuracy_cv(KNeighborsClassifier(n_neighbors=n_neighbor)).mean()\n",
    "          for n_neighbor in n_neighbors]"
   ]
  },
  {
   "cell_type": "code",
   "execution_count": 31,
   "metadata": {
    "collapsed": false
   },
   "outputs": [
    {
     "name": "stdout",
     "output_type": "stream",
     "text": [
      "XGB Train accuracy: 1.0\n",
      "XGB Test accuracy: 0.992831541219\n"
     ]
    }
   ],
   "source": [
    "#cross validation function\n",
    "def accuracy_cv(model):\n",
    "    accuracy = cross_val_score(model,x_train,y_train.as_matrix().ravel(),scoring='accuracy',cv=5)\n",
    "    return (accuracy)\n",
    "\n",
    "model_xgb = xgb.XGBClassifier()\n",
    "model_xgb.fit(x_train,y_train)\n",
    "print(\"XGB Train accuracy:\", model_xgb.score(x_train,y_train))\n",
    "print(\"XGB Test accuracy:\",model_xgb.score(x_test,y_test))\n"
   ]
  },
  {
   "cell_type": "code",
   "execution_count": null,
   "metadata": {
    "collapsed": false
   },
   "outputs": [],
   "source": [
    "# convert 'Wet' 'Dry' to '1' '0'\n",
    "data['surface_condition'] = data['surface_condition'].factorize()[0]\n",
    "# DOC: rename col http://stackoverflow.com/a/11346337\n",
    "data.rename(columns={'surface_condition':'surface_wet'})\n",
    "# print number of unique\n",
    "for colname in data.columns:\n",
    "    print(\"% 4d : %s\" % (len(data[colname].unique()), colname))\n",
    "# remove data which is has no importance\n",
    "# better to drop cols with all NaN and convert \"unimportant\" data to NaN\n",
    "#  - can't universally decide to drop col just based on uniqueness\n",
    "# e.g. all of object_struck is 'Not Applicable' and useless, but if surface_condition had only one value \"dry\" this would be important\n",
    "# ? for colname in data.columns:\n",
    "# colname = 'object_struck'\n",
    "# if(len(data[colname].unique()) == 1):\n",
    "#   print(\"-I-: dropping %s for having all homogenous values %s\", (colname, data[colname].unique()[0]))\n",
    "#   data.drop(colname,axis=1,inplace=True)\n",
    "\n",
    "\n",
    "    \n",
    "\n",
    "print(data.head())\n",
    "print(data.info())\n",
    "if(1):\n",
    "  data.describe()\n",
    "  data.hist()\n",
    "  data.corr().plot() # TODO: seaborn\n",
    "  plt.show()\n",
    "else:\n",
    "  print(\"-I-: Skipping...\")\n",
    "\n",
    "pairplot_var_list = [\n",
    "# 'crash_id',\n",
    " 'average_daily_traffic_amount',\n",
    " 'average_daily_traffic_year',\n",
    " 'crash_death_count',\n",
    "# 'crash_incapacitating_injury_count',\n",
    "# 'crash_non-incapacitating_injury_count',\n",
    "# 'crash_not_injured_count',\n",
    "# 'crash_possible_injury_count',\n",
    " 'crash_severity',\n",
    " 'crash_time',\n",
    " 'crash_year',\n",
    " 'day_of_week',\n",
    "# 'intersecting_street_name',\n",
    " 'intersection_related',\n",
    "# 'latitude',\n",
    " 'light_condition',\n",
    "# 'longitude',\n",
    " 'manner_of_collision',\n",
    " 'medical_advisory_flag',\n",
    " 'number_of_entering_roads',\n",
    " 'number_of_lanes',\n",
    "# 'object_struck',\n",
    " 'road_base_type',\n",
    " 'speed_limit',\n",
    "# 'street_name',\n",
    " 'surface_condition'\n",
    " ]\n",
    "\n",
    "# tmp disable\n",
    "if(0):\n",
    "    sns.pairplot(data, vars=pairplot_var_list)\n",
    "    plt.show()\n",
    "\n",
    "# alternative visualisation\n",
    "datapt = data.pivot_table(values=['crash_death_count','crash_incapacitating_injury_count','crash_non-incapacitating_injury_count'], index=['speed_limit','crash_time'])\n",
    "print(datapt)\n",
    "\n",
    "pp.pprint(list(pd.get_dummies(data[dummies_needed_list]).columns))\n",
    "pp.pprint(list(pd.get_dummies(data[dummies_needed_list]).columns.str.replace('[,\\s]+','_').str.lower()))\n",
    "'''\n",
    " 'Dark, Lighted', 'dark_lighted_yes'\n",
    " 'Dark, Not Lighted', 'dark_lighted_no'\n",
    " 'Dark, Unknown Lighting', 'dark_lighted_unknown'\n",
    " 'Dawn',\n",
    " 'Daylight',\n",
    " 'Dusk',\n",
    " 'Unknown',\n",
    "'''"
   ]
  },
  {
   "cell_type": "code",
   "execution_count": null,
   "metadata": {
    "collapsed": true
   },
   "outputs": [],
   "source": []
  }
 ],
 "metadata": {
  "anaconda-cloud": {},
  "kernelspec": {
   "display_name": "Python [default]",
   "language": "python",
   "name": "python3"
  },
  "language_info": {
   "codemirror_mode": {
    "name": "ipython",
    "version": 3
   },
   "file_extension": ".py",
   "mimetype": "text/x-python",
   "name": "python",
   "nbconvert_exporter": "python",
   "pygments_lexer": "ipython3",
   "version": "3.5.2"
  }
 },
 "nbformat": 4,
 "nbformat_minor": 1
}
